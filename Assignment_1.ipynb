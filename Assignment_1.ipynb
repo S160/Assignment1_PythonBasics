{
  "nbformat": 4,
  "nbformat_minor": 0,
  "metadata": {
    "colab": {
      "provenance": []
    },
    "kernelspec": {
      "name": "python3",
      "display_name": "Python 3"
    },
    "language_info": {
      "name": "python"
    }
  },
  "cells": [
    {
      "cell_type": "code",
      "execution_count": null,
      "metadata": {
        "id": "0JyH9SxFvJfb"
      },
      "outputs": [],
      "source": []
    },
    {
      "cell_type": "markdown",
      "source": [
        "\n",
        "\n",
        "Ans 1: Python is a programming language which is both compiled and interpreted, object oriented, high-level programming language known for its  simplicity, readability, and versatility. It was created by Guido van Rossum and first released in 1991. It emphasizes more on the code readability with its use of indentation to define code blocks rather than braces or keywords.\n",
        "\n",
        "The features that make Python the most popular among the other programming languages is\n",
        "\n",
        "1. Simplicity :- The simple and readable syntax making it clear and easy to understand for beginners to professionals\n",
        "2. Versatile:- It is versatile and can be used for a wide range of applications, i.e. from web development to AI. Also it is object-oriented, procedural and supports functional programming.\n",
        "3. Huge Ecosystem of its Libraries:- Libraries like NumPy and Pandas (for data analysis), TensorFlow and PyTorch (for machine learning), Django, Flask (for web development) etc.\n",
        "4. Strong Community Support:- Pyhton has a massive Global Community of Developers and Data Scientists and Engineers which provide resources like forums and Open Source Projects related to Python and notifies on frequent updates and improvements.\n",
        "5. It is widely used in key fields such as Data science, Machine learning/AI,  Web development, Automation and scripting, Cybersecurity, Internet of Things (IoT) as it has libraries to encorporate these fields.\n"
      ],
      "metadata": {
        "id": "d4wepKJLvaWh"
      }
    },
    {
      "cell_type": "markdown",
      "source": [
        "Ans 2: Interpreter in Python is a virtual machine  which interpretes (reads and executes) the Python code line by line and converts it into machine code that the computer can understand and run (high-level Python code into an intermediate form i.e., bytecode)."
      ],
      "metadata": {
        "id": "NY3IrFi3g4KS"
      }
    },
    {
      "cell_type": "markdown",
      "source": [
        "Ans 3: Pre-defined Keywords are the already defined words that hold a special meaning for a specific purpose in Python. For example:- False, none, true, if, and, in, is, is not, etc.\n"
      ],
      "metadata": {
        "id": "Zp9uLTVmibyq"
      }
    },
    {
      "cell_type": "markdown",
      "source": [
        "Ans 4: No, Pre-defined Keywords cannot be used as variable names and if assigned as variable names would raise a syntax error because Python keywords are reserved words that have special meaning and are used to define the syntax and structure of Python programs."
      ],
      "metadata": {
        "id": "I8eAEXGll0FP"
      }
    },
    {
      "cell_type": "markdown",
      "source": [
        "Ans 5: Mutability in Python refers to ability to the change in the state or the values of an object after it is created.\n",
        "If an object can be changed, it is mutable and if an object cannot be changed, it is immutable.\n",
        "For example- List is a mutable object and String is an immutable object.\n"
      ],
      "metadata": {
        "id": "uQETwHUZpRcQ"
      }
    },
    {
      "cell_type": "markdown",
      "source": [
        "Ans 6: Lists in Python are mutable objects because the elements contained in a list can be changed or edited (added or deleted) once created whereas in tuples once created elements cannot be changed and so they are immutable.\n",
        "\n"
      ],
      "metadata": {
        "id": "CPHeBSqOr4DS"
      }
    },
    {
      "cell_type": "markdown",
      "source": [
        "Ans 7: '==' Operators is used to check the equality of the two values if the values of two variables are equal or not whereas 'is' is the identity oprator that is used to check if the two variables point to the exact same object in memory."
      ],
      "metadata": {
        "id": "BTHQd2eFuKS6"
      }
    },
    {
      "cell_type": "markdown",
      "source": [
        "Ans 8: Logical Operators in Python are used to combine two or more boolean expressions (conditions) and return a single boolean result — either True or False. They help control the flow of a program by making decisions based on multiple conditions.\n",
        "There are 3 Logical Operators, namely:\n",
        "1. AND:- Returns True only if both conditions are true.If either condition is false, the result is False.\n",
        "2. OR:- Returns True if at least one condition is true. Returns False only when both conditions are false.\n",
        "3. NOT:- Reverses the result of a condition: True becomes False, and vice versa."
      ],
      "metadata": {
        "id": "DIyV6mLvvyHe"
      }
    },
    {
      "cell_type": "markdown",
      "source": [
        "Ans 9: Typecating in Python refers to conversion of one data type to another."
      ],
      "metadata": {
        "id": "K7kEpF5ayZhy"
      }
    },
    {
      "cell_type": "markdown",
      "source": [
        "Ans 10: In Implicit type conversion, Python automatically itself converts one datatype into another during operations whereas in Explicit type conversion the user manually converts one datatype to another."
      ],
      "metadata": {
        "id": "vIZnHXmFyZQV"
      }
    },
    {
      "cell_type": "markdown",
      "source": [
        "Ans 11: Conditional Statements in Python allows computer to check for a certain condition and execute it if it is true.\n",
        "They control the flow of the program based on logical conditions.\n",
        "Some common conditional statements are:-\\\n",
        "1. If statement\n",
        "2. If-else statement\n",
        "3. If-elif-else statement"
      ],
      "metadata": {
        "id": "mqDlHkUqyWkl"
      }
    },
    {
      "cell_type": "markdown",
      "source": [
        "Ans 12: Elif (else if) statement is used to specify multiple conditions in a program. In this case the if condition is evaluated first, if it is false then the elif statement is executed."
      ],
      "metadata": {
        "id": "YzN7AJrB15lr"
      }
    },
    {
      "cell_type": "markdown",
      "source": [
        "Ans 13: A for loop is generally used when we know in advance how many times we want to repeat a block of code. It is commonly used to iterate over sequences like lists, strings, or a range of numbers whereas a while loop, on the other hand, is used when the number of iterations is not known beforehand. It continues to execute as long as a specified condition remains true. So, For loops are ideal for definite iteration and while loops are used for indefinite iteration based on a condition."
      ],
      "metadata": {
        "id": "FcvRLShOypTB"
      }
    },
    {
      "cell_type": "markdown",
      "source": [
        "Ans 14: A While loop is more suitable than a for loop when you don't know in advance how many times the loop needs to run, i.e., the loop should continue until a condition is met.\n",
        "For example:-\n",
        "            While Loop is more suitable when prompting a user to enter a correct password, because until the user enters the correct password or the password entered by the user matches the correct password, the loop continues to run.\n",
        "            \n",
        "            \n",
        "  \n",
        "  Also, Keeping a game running until the player quits\n",
        "          "
      ],
      "metadata": {
        "id": "bdz5NFs00nmf"
      }
    },
    {
      "cell_type": "markdown",
      "source": [
        "#Practical Questions"
      ],
      "metadata": {
        "id": "2qCHfTx21pjr"
      }
    },
    {
      "cell_type": "markdown",
      "source": [
        "Ans 1."
      ],
      "metadata": {
        "id": "_DdY3XwU2GqZ"
      }
    },
    {
      "cell_type": "code",
      "source": [
        "print(\"Hello World!!\")"
      ],
      "metadata": {
        "colab": {
          "base_uri": "https://localhost:8080/"
        },
        "id": "vmtyKHnA2ciY",
        "outputId": "54b4da2f-5aa1-44be-b562-f47df3bd9b21"
      },
      "execution_count": null,
      "outputs": [
        {
          "output_type": "stream",
          "name": "stdout",
          "text": [
            "Hello World!!\n"
          ]
        }
      ]
    },
    {
      "cell_type": "markdown",
      "source": [
        "Ans 2."
      ],
      "metadata": {
        "id": "bV1PWyLZ24WI"
      }
    },
    {
      "cell_type": "code",
      "source": [
        "name= input(\"Enter your name:-\")\n",
        "age= int(input(\"Enter your Age:-\"))\n",
        "print(\"Name:- \",name)\n",
        "print(\"Age:- \",age)"
      ],
      "metadata": {
        "colab": {
          "base_uri": "https://localhost:8080/"
        },
        "id": "Xd5YMYS227dl",
        "outputId": "45ac7849-cc27-4b41-bb42-4dafce4af375"
      },
      "execution_count": null,
      "outputs": [
        {
          "output_type": "stream",
          "name": "stdout",
          "text": [
            "Enter your name:-Shreya Roy\n",
            "Enter your Age:-23\n",
            "Name:-  Shreya Roy\n",
            "Age:-  23\n"
          ]
        }
      ]
    },
    {
      "cell_type": "markdown",
      "source": [
        "Ans 3."
      ],
      "metadata": {
        "id": "EmYAu5WB3ia8"
      }
    },
    {
      "cell_type": "code",
      "source": [
        "# printing all keywords at once using \"kwlist()\"\n",
        "import keyword\n",
        "print(\"The list of Python keywords are: \",keyword.kwlist)"
      ],
      "metadata": {
        "colab": {
          "base_uri": "https://localhost:8080/"
        },
        "collapsed": true,
        "id": "tvdiCIxE3l9l",
        "outputId": "1c75148e-5c7b-470e-ae29-4818a96a2c84"
      },
      "execution_count": null,
      "outputs": [
        {
          "output_type": "stream",
          "name": "stdout",
          "text": [
            "The list of Python keywords are:  ['False', 'None', 'True', 'and', 'as', 'assert', 'async', 'await', 'break', 'class', 'continue', 'def', 'del', 'elif', 'else', 'except', 'finally', 'for', 'from', 'global', 'if', 'import', 'in', 'is', 'lambda', 'nonlocal', 'not', 'or', 'pass', 'raise', 'return', 'try', 'while', 'with', 'yield']\n"
          ]
        }
      ]
    },
    {
      "cell_type": "markdown",
      "source": [
        "Ans 4."
      ],
      "metadata": {
        "id": "b-aXIcIa6GPy"
      }
    },
    {
      "cell_type": "code",
      "source": [
        "import keyword\n",
        "a=input(\"Enter a word:- \")\n",
        "if(a in keyword.kwlist):\n",
        "  print(\"It is a keyword.\")\n",
        "else:\n",
        "  print(\"It is not a keyword.\")"
      ],
      "metadata": {
        "colab": {
          "base_uri": "https://localhost:8080/"
        },
        "id": "haY1qUWJ6Vu3",
        "outputId": "76d40ea2-4810-4112-ec46-22c8e4f773bf"
      },
      "execution_count": null,
      "outputs": [
        {
          "output_type": "stream",
          "name": "stdout",
          "text": [
            "Enter a word:- continue\n",
            "It is a keyword.\n"
          ]
        }
      ]
    },
    {
      "cell_type": "markdown",
      "source": [
        "Ans 5."
      ],
      "metadata": {
        "id": "yYv7IrKD-ODD"
      }
    },
    {
      "cell_type": "code",
      "source": [
        "list=[1,2,\"Shreya\",4+5j,2.33]\n",
        "list[3]=7 #Changing elements in list\n",
        "print(list)\n",
        "\n",
        "t=(5.6,\"Pwskills\",6,3+2j)\n",
        "print(t)\n",
        "#t[0]=1  changing elements in Tuple is not possible thus it will give error\n",
        "\n"
      ],
      "metadata": {
        "colab": {
          "base_uri": "https://localhost:8080/"
        },
        "id": "alfYYbLH-Sqd",
        "outputId": "5506fa76-4287-4195-d4fb-e05c694756c4"
      },
      "execution_count": null,
      "outputs": [
        {
          "output_type": "stream",
          "name": "stdout",
          "text": [
            "[1, 2, 'Shreya', 7, 2.33]\n",
            "(5.6, 'Pwskills', 6, (3+2j))\n"
          ]
        }
      ]
    },
    {
      "cell_type": "markdown",
      "source": [
        "Ans 6."
      ],
      "metadata": {
        "id": "oCcWSShlAkNk"
      }
    },
    {
      "cell_type": "code",
      "source": [
        "#Function to demonstrate behavior of mutable and immutable objects\n",
        "def modify_arguments(num, num_list):\n",
        "    # Try to modify both arguments\n",
        "    num += 10\n",
        "    num_list.append(10)\n",
        "\n",
        "    print(\"Inside function:\")\n",
        "    print(\"num (immutable):\", num)\n",
        "    print(\"num_list (mutable):\", num_list)\n",
        "\n",
        "# Immutable argument (int)\n",
        "a = 5\n",
        "\n",
        "# Mutable argument (list)\n",
        "b = [1, 2, 3]\n",
        "\n",
        "modify_arguments(a, b)\n",
        "\n",
        "print(\"\\nOutside function:\")\n",
        "print(\"a (unchanged):\", a)           # Immutable, original value remains\n",
        "print(\"b (changed):\", b)             # Mutable, original list is modified\n",
        "\n",
        "\n"
      ],
      "metadata": {
        "colab": {
          "base_uri": "https://localhost:8080/"
        },
        "id": "Z34lxXOPBNHg",
        "outputId": "3d307694-93f0-4138-b948-1b4a76cd645d"
      },
      "execution_count": null,
      "outputs": [
        {
          "output_type": "stream",
          "name": "stdout",
          "text": [
            "Inside function:\n",
            "num (immutable): 15\n",
            "num_list (mutable): [1, 2, 3, 10]\n",
            "\n",
            "Outside function:\n",
            "a (unchanged): 5\n",
            "b (changed): [1, 2, 3, 10]\n"
          ]
        }
      ]
    },
    {
      "cell_type": "markdown",
      "source": [
        "Ans 7."
      ],
      "metadata": {
        "id": "twsZDprDAMdb"
      }
    },
    {
      "cell_type": "code",
      "source": [
        "#Function to perform basic Arithmatic Operations based on User Input\n",
        "#Addition\n",
        "a=int(input(\"Enter any number:\"))\n",
        "b=int(input(\"Enter second number:\"))\n",
        "sum=a+b\n",
        "dif=a-b\n",
        "print(\"Sum of two numbers is: \",sum)\n",
        "print(\"Difference of the two numbers is: \",dif)"
      ],
      "metadata": {
        "colab": {
          "base_uri": "https://localhost:8080/"
        },
        "id": "_IMB2-m-AqkN",
        "outputId": "b248b6e2-c3e5-4b21-ee4a-a3fbc5e4aa38"
      },
      "execution_count": null,
      "outputs": [
        {
          "output_type": "stream",
          "name": "stdout",
          "text": [
            "Enter any number:2\n",
            "Enter second number:3\n",
            "Sum of two numbers is:  5\n",
            "Difference of the two numbers is:  -1\n"
          ]
        }
      ]
    },
    {
      "cell_type": "markdown",
      "source": [
        "Ans 8."
      ],
      "metadata": {
        "id": "n5Xd1OaSD77U"
      }
    },
    {
      "cell_type": "code",
      "source": [
        "#Use of Logical Operators\n",
        "age=int(input(\"Enter your age: \"))\n",
        "ticket=input(\"Do you have ticket: \")\n",
        "\n",
        "#And Operator\n",
        "if age>=18 and ticket==\"yes\":\n",
        "  print(\"You are allowed to ride.\")\n",
        "else:\n",
        "  print(\"You are not allowed to ride.\")\n",
        "\n",
        "#Or Operator\n",
        "if age<18 or ticket==\"No\":\n",
        "  print(\"You are not allowed to ride.\")\n",
        "else:\n",
        "  print(\"You are allowed to ride.\")\n"
      ],
      "metadata": {
        "id": "uieUsueIEBYD",
        "colab": {
          "base_uri": "https://localhost:8080/"
        },
        "outputId": "c4234c88-b554-44c2-8ac3-cc69aa2ffe61"
      },
      "execution_count": 23,
      "outputs": [
        {
          "output_type": "stream",
          "name": "stdout",
          "text": [
            "Enter your age: 21\n",
            "Do you have ticket: No\n",
            "You are not allowed to ride.\n",
            "You are not allowed to ride.\n"
          ]
        }
      ]
    },
    {
      "cell_type": "markdown",
      "source": [
        "Ans 9."
      ],
      "metadata": {
        "id": "kQYn6MbTHuEh"
      }
    },
    {
      "cell_type": "code",
      "source": [
        "#Program to convert string to float, int and boolean types\n",
        "a_str = input(\"Enter a value: \") # Store original input as string\n",
        "print(\"Original Value:-\", a_str)\n",
        "\n",
        "# Convert to Integer\n",
        "if a_str.isdigit():\n",
        "  a_int = int(a_str)\n",
        "  print(\"Integer value(converted): \", a_int)\n",
        "else:\n",
        "  print(\"Cannot convert to Integer.\")\n",
        "\n",
        "# Convert to Float\n",
        "if a_str.isdigit():\n",
        "  a_float = float(a_str)\n",
        "  print(\"Float value(converted):\", a_float)\n",
        "else:\n",
        "  print(\"Cannot convert to Float.\")\n",
        "\n",
        "# Convert to Boolean\n",
        "# Non-empty strings are True, empty strings are False\n",
        "a_bool = bool(a_str)\n",
        "print(\"Boolean value(converted):\", a_bool)"
      ],
      "metadata": {
        "id": "vmxl_GZKH1SJ",
        "colab": {
          "base_uri": "https://localhost:8080/"
        },
        "outputId": "bdc519d4-461e-4fe2-ffee-742140607c0f"
      },
      "execution_count": 29,
      "outputs": [
        {
          "output_type": "stream",
          "name": "stdout",
          "text": [
            "Enter a value: Mango\n",
            "Original Value:- Mango\n",
            "Cannot convert to Integer.\n",
            "Cannot convert to Float.\n",
            "Boolean value(converted): True\n"
          ]
        }
      ]
    },
    {
      "cell_type": "markdown",
      "source": [
        "Ans 10."
      ],
      "metadata": {
        "id": "N1XPu_AHNafZ"
      }
    },
    {
      "cell_type": "code",
      "source": [
        "#Type Casting with list Elements\n",
        "a=5\n",
        "List1=[15,3.33,\"Mango\",True,a]\n",
        "print(\"This is my original list:\",List1)\n",
        "\n",
        "#Editing the elements some of the list using Typecasting\n",
        "List1[0]=float(List1[0])\n",
        "List1[1]=int(List1[1])\n",
        "List1[2]=bool(List1[2])\n",
        "List1[3]=int(List1[3])\n",
        "print(\"This is my edited list:\",List1)\n",
        "\n"
      ],
      "metadata": {
        "colab": {
          "base_uri": "https://localhost:8080/"
        },
        "id": "AhQ42KqGNfTa",
        "outputId": "65e36c12-376a-4bbd-ff09-6810ec7c7461"
      },
      "execution_count": 30,
      "outputs": [
        {
          "output_type": "stream",
          "name": "stdout",
          "text": [
            "This is my original list: [15, 3.33, 'Mango', True, 5]\n",
            "This is my edited list: [15.0, 3, True, 1, 5]\n"
          ]
        }
      ]
    },
    {
      "cell_type": "markdown",
      "source": [
        "Ans 11."
      ],
      "metadata": {
        "id": "Z2nXFjRtLB6I"
      }
    },
    {
      "cell_type": "code",
      "source": [
        "#Program to check whether a  number is Positive, Negative oe Zero\n",
        "num=int(input(\"Enter a number: \"))\n",
        "if num>0:\n",
        "    print(\"The number is a Positive number.\")\n",
        "elif num<0:\n",
        "    print(\"The number is a Negative number.\")\n",
        "else:\n",
        "    print(\"The number is zero.\")"
      ],
      "metadata": {
        "colab": {
          "base_uri": "https://localhost:8080/"
        },
        "id": "claTTPrULIVO",
        "outputId": "84f7fec6-1b4a-46c4-a2c5-d901fa3289b5"
      },
      "execution_count": 3,
      "outputs": [
        {
          "output_type": "stream",
          "name": "stdout",
          "text": [
            "Enter a number: 0\n",
            "The number is zero.\n"
          ]
        }
      ]
    },
    {
      "cell_type": "markdown",
      "source": [
        "Ans 12."
      ],
      "metadata": {
        "id": "Swwj_wELNlj9"
      }
    },
    {
      "cell_type": "code",
      "source": [
        "#Printing numbers from 1-10 using For loop\n",
        "for i in range(1,11):\n",
        "    print(i)\n"
      ],
      "metadata": {
        "colab": {
          "base_uri": "https://localhost:8080/"
        },
        "id": "GhNuvyGHNqSv",
        "outputId": "90372462-b275-4c13-aa22-979a48e78dff"
      },
      "execution_count": 6,
      "outputs": [
        {
          "output_type": "stream",
          "name": "stdout",
          "text": [
            "1\n",
            "2\n",
            "3\n",
            "4\n",
            "5\n",
            "6\n",
            "7\n",
            "8\n",
            "9\n",
            "10\n"
          ]
        }
      ]
    },
    {
      "cell_type": "markdown",
      "source": [
        "Ans 13."
      ],
      "metadata": {
        "id": "EhyUAQBXOF_b"
      }
    },
    {
      "cell_type": "code",
      "source": [
        "#Python program to find the sum of all even numbers between 1 and 50.\n",
        "sum=0\n",
        "for i in range(1,51):\n",
        "   if i%2==0:\n",
        "      sum+=i\n",
        "print(\"Sum of all even numbers between 1-50: \",sum)"
      ],
      "metadata": {
        "colab": {
          "base_uri": "https://localhost:8080/"
        },
        "id": "yGbbp0UVOH62",
        "outputId": "11d1c8dc-06c3-4e50-c8bc-41a81714fef3"
      },
      "execution_count": 9,
      "outputs": [
        {
          "output_type": "stream",
          "name": "stdout",
          "text": [
            "Sum of all even numbers between 1-50:  650\n"
          ]
        }
      ]
    },
    {
      "cell_type": "markdown",
      "source": [
        "Ans 14."
      ],
      "metadata": {
        "id": "25tYt-MTPhh6"
      }
    },
    {
      "cell_type": "code",
      "source": [
        "#program to reverse a String using While Loop\n",
        "a=input(\"Enter something (a string): \")\n",
        "rev_a =\"\"\n",
        "i=len(a)-1\n",
        "while i>=0:\n",
        "  rev_a+=a[i]\n",
        "  i-=1\n",
        "print(\"Reversed String: \",rev_a)\n"
      ],
      "metadata": {
        "colab": {
          "base_uri": "https://localhost:8080/"
        },
        "id": "1Z7bYMinPj68",
        "outputId": "c28a702d-92b8-4c88-e6d0-1d944d894b1f"
      },
      "execution_count": 16,
      "outputs": [
        {
          "output_type": "stream",
          "name": "stdout",
          "text": [
            "Enter something (a string): shreya\n",
            "Reversed String:  ayerhs\n"
          ]
        }
      ]
    },
    {
      "cell_type": "markdown",
      "source": [
        "Ans 15."
      ],
      "metadata": {
        "id": "M4WSda9bRWww"
      }
    },
    {
      "cell_type": "code",
      "source": [
        "num = int(input(\"Enter a number: \"))\n",
        "\n",
        "# Initialize variables\n",
        "fact = 1\n",
        "i = 1\n",
        "if num < 0:\n",
        "    print(\"Factorial is not defined for negative numbers.\")\n",
        "else:\n",
        "    while i <= num:\n",
        "        fact *= i\n",
        "        i += 1\n",
        "    print(\"Factorial of number is: \",fact)\n",
        "\n",
        "\n",
        "\n"
      ],
      "metadata": {
        "colab": {
          "base_uri": "https://localhost:8080/"
        },
        "id": "KX-yZizhTkTd",
        "outputId": "bf880da2-a63a-48b6-81f2-b30ab54360fa"
      },
      "execution_count": 20,
      "outputs": [
        {
          "output_type": "stream",
          "name": "stdout",
          "text": [
            "Enter a number: 4\n",
            "Factorial of number is:  24\n"
          ]
        }
      ]
    }
  ]
}