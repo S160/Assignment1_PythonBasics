{
  "cells": [
    {
      "cell_type": "markdown",
      "metadata": {
        "id": "2wmzK_LDa-Hs"
      },
      "source": [
        "Ans 1: Data structures are specialized formats for organizing, storing, and accessing collections of data. They provide efficient ways to manage information based on its characteristics and intended use.\n",
        "\n"
      ]
    },
    {
      "cell_type": "markdown",
      "metadata": {
        "id": "PIccsD31wx-i"
      },
      "source": [
        "Ans 2: Data types in Python that can be changed, i.e. elements in it can be modified after creation are called mutable data types whereas the data types which cannot be modified once created and its elements cannot be changed are the immutable data types in Python.\n",
        "Mutable- For eg. (lists, dictionaries)\n",
        "Immutable- For eg. (Tuples, strings)"
      ]
    },
    {
      "cell_type": "markdown",
      "metadata": {
        "id": "ChnoncGCzA9D"
      },
      "source": [
        "Ans 3: Tuples are immutable whereas Lists are mutable.\n",
        "\n",
        "Tuples use () to enclose elements whereas lists use [] to enclose elements.\n",
        "       \n",
        "  Lists are use to store dynamic data whereas Tuples are used to store fixed data."
      ]
    },
    {
      "cell_type": "markdown",
      "metadata": {
        "id": "G8XCiRRFzTVa"
      },
      "source": [
        "Ans 4: In Python, Dictionaries store data as key-value pairs using a hash table internally, where each key is hashed to determine its unique index, allowing fast access, insertion, and deletion."
      ]
    },
    {
      "cell_type": "markdown",
      "metadata": {
        "id": "oR3ZDf1f2GMN"
      },
      "source": [
        "Ans 5: Sets are used instead of a list in Python when we need to:\n",
        "\n",
        "1. Automatically remove duplicates\n",
        "\n",
        "2. Check membership efficiently (sets use hashing and are faster than lists for in checks)\n",
        "\n",
        "3. Perform set operations like union, intersection, and difference quickly."
      ]
    },
    {
      "cell_type": "markdown",
      "metadata": {
        "id": "jCBR_mQSLN6g"
      },
      "source": [
        "Ans 6: A String in Python is an odered sequence of characters enclosed in single or double quotes.\n",
        "\n",
        "Strings are different from Lists as strings hold only characters while Lists can hold elements of various data types.\n",
        "\n",
        "Strings are immutable whereas Lists are mutable.\n",
        "\n",
        "Strings are used for text entries whereas Lists are used for entering different elements in sequence or collection of different items.\n",
        "\n",
        "Strings are enclosed within \" \" or ' ' (double quotes or single quotes) whereas Lists are enclosed wihin squared brackets [ ].\n",
        "\n"
      ]
    },
    {
      "cell_type": "markdown",
      "metadata": {
        "id": "5MSWOR4BL74p"
      },
      "source": [
        "Ans 7: Tuples ensure data integrity in Python by being immutable meaning their contents cannot be changed after creation. This prevents accidental modifications and helps protect fixed data throughout a program and integrates the data in fixed format ensuring data integrity.\n"
      ]
    },
    {
      "cell_type": "markdown",
      "metadata": {
        "id": "K-UHyQDOMIH-"
      },
      "source": [
        "Ans 8. A hash table in a Python dictionary refers to the internal data structure that maps keys to values using a hash function, allowing operations like fast lookups, insertions, and deletions based on the key's hash values in a dictionary.\n"
      ]
    },
    {
      "cell_type": "markdown",
      "metadata": {
        "id": "6P6NR0byMWzF"
      },
      "source": [
        "Ans 9: Yes, Lists can contain different data types in Python because Python is a dynamically typed language, and each element in a list is just a reference to an object, regardless of its type."
      ]
    },
    {
      "cell_type": "markdown",
      "metadata": {
        "id": "hO2A-hKHMrF0"
      },
      "source": [
        "Ans 10: Strings are immutable in Python because to ensure data integrity, security, and performance—once created, they cannot be changed, which makes them safe for use as keys in dictionaries, allows memory optimization through interning, and prevents unexpected side effects or modifications in programs."
      ]
    },
    {
      "cell_type": "markdown",
      "metadata": {
        "id": "Gm_8dOIRMxPE"
      },
      "source": [
        "Ans 11: Dictionaries allow labeling data with meaningful keys, improving code readability and structure whereas Lists rely on index positions, which can be unclear and error-prone.\n",
        "\n",
        "With dictionaries, you can access data by name, not position whereas in lists, you need to remember or track the index of each element.\n",
        "\n",
        "Key in dictionary is faster than than value in List."
      ]
    },
    {
      "cell_type": "markdown",
      "metadata": {
        "id": "GYhzkpP_EoRN"
      },
      "source": [
        "Ans 12: Tuples can be preferable to be used over a list where you want to store fixed and unchangeable data.\n",
        "\n",
        "A scenario where tuple would be preferable than a List is when entering Bank details of a person or entering passwords."
      ]
    },
    {
      "cell_type": "markdown",
      "metadata": {
        "id": "6RKDnZQAGDen"
      },
      "source": [
        "Ans 13: In Python, sets automatically remove duplicate values — they only store unique elements, so if you add a duplicate, it’s ignored."
      ]
    },
    {
      "cell_type": "markdown",
      "metadata": {
        "id": "KOoNA9BnGUaq"
      },
      "source": [
        "Ans 14: The 'in' keyword in Python is used to check the membership of a member in the List or a Dictionary.\n",
        "The 'in' keyword in Lists checks whether an element is present in the List or not whereas in Dictionaries it checks whether a key is present in the dictionary or not."
      ]
    },
    {
      "cell_type": "markdown",
      "metadata": {
        "id": "UepRGQAkMBKQ"
      },
      "source": [
        "Ans 15: No, We cannot modify the elements of a Tuple because they are immutable data structures and once created, its elements cannot be modified.\n",
        "Tuples are an odered, immutable collection of elements just like Lists. But once created its elements cannot be changed. The immutability of tuples in Python provide data safety and easy processiing of data."
      ]
    },
    {
      "cell_type": "markdown",
      "metadata": {
        "id": "-4pPeA9pOYDi"
      },
      "source": [
        "Ans 16: A nested dictionary in Python is a dictionary that contains another dictionary (or dictionaries) in it as one of its elements. It allows you to create more complex data structures, like tables, trees etc.\n",
        "\n",
        "For Example:\n",
        "\n",
        "\n"
      ]
    },
    {
      "cell_type": "code",
      "execution_count": null,
      "metadata": {
        "colab": {
          "base_uri": "https://localhost:8080/"
        },
        "id": "UuwUAhIkWX1E",
        "outputId": "0fcc4b5c-bbc6-4df6-ef79-adaf85a69e0a"
      },
      "outputs": [
        {
          "name": "stdout",
          "output_type": "stream",
          "text": [
            "Population of New York: 8419000\n",
            "One landmark in Paris: Eiffel Tower\n"
          ]
        }
      ],
      "source": [
        "cities = {\n",
        "    \"New York\": {\n",
        "        \"country\": \"USA\",\n",
        "        \"population\": 8419000,\n",
        "        \"landmarks\": [\"Statue of Liberty\", \"Empire State Building\"]\n",
        "    },\n",
        "    \"Paris\": {\n",
        "        \"country\": \"France\",\n",
        "        \"population\": 2141000,\n",
        "        \"landmarks\": [\"Eiffel Tower\", \"Louvre Museum\"]\n",
        "    },\n",
        "    \"Tokyo\": {\n",
        "        \"country\": \"Japan\",\n",
        "        \"population\": 13960000,\n",
        "        \"landmarks\": [\"Tokyo Skytree\", \"Senso-ji Temple\"]\n",
        "    },\n",
        "    \"London\": {\n",
        "        \"country\": \"UK\",\n",
        "        \"population\": 7880000,\n",
        "        \"landmarks\": [\"BigBen\", \"Buckingham Palace\"]\n",
        "    }\n",
        "}\n",
        "#Accessing Elements\n",
        "print(f\"Population of New York: {cities['New York']['population']}\")\n",
        "print(f\"One landmark in Paris: {cities['Paris']['landmarks'][0]}\")\n",
        "\n"
      ]
    },
    {
      "cell_type": "markdown",
      "metadata": {
        "id": "8JImWDTCab68"
      },
      "source": [
        "Ans 17: Accessing elements in a dictionary in Python has an average time complexity of O(1), constant time due to hash table implementation, but in rare worst-case scenarios (like many hash collisions), it can degrade to O(n).\n",
        "\n",
        "For O(1): is due to\n",
        "1. Python hashes the key to find its location in memory.\n",
        "\n",
        "2. It then directly jumps to that location using the hash—no need to search linearly.\n",
        "\n",
        "3. This gives near-instant lookup time under normal conditions.\n",
        "\n",
        "For O(n):- is due to\n",
        "1. Hash collisions: Different keys may produce the same hash.\n",
        "\n",
        "2. In that case, Python uses techniques like open addressing or chaining, which can degrade performance.\n",
        "\n",
        "3. If many keys collide, you may need to linearly scan a portion of the dictionary.\n",
        "\n",
        "\n",
        "In Python, dictionaries are implemented using hash tables, which makes element access very efficient.\n",
        "\n"
      ]
    },
    {
      "cell_type": "markdown",
      "metadata": {
        "id": "jzP2gC-Eb57K"
      },
      "source": [
        "Ans 18: Lists: It is an odered collection of elements that can be of any data type.\n",
        "Dictionaries: Dictionaries are unordered, mutable collection of key value pairs where each unique key maps to a value and is defined using curly braces {}.\n",
        "Syntax:- {\"key\"=\"value\"}\n",
        "\n",
        "Lists are sometimes preferred over dictionaries in Python because they are ordered, simpler, and more memory-efficient when dealing with sequential, index-based data without the need for key-value relationships.\n",
        "Lists are used when we need an ordered colection of items and Dictionaries are needed when we need to associate names with values.\n",
        "\n",
        "For example:\n",
        "1. While maintaining a Playlist of songs which you will play on a trip and play 33ach son one by one.\n",
        "2. To store the day-to-day tasks in a To do list and keep on deleting each item one by one in the list as it gets completed.\n",
        "\n",
        "\n",
        "\n",
        "\n"
      ]
    },
    {
      "cell_type": "markdown",
      "metadata": {
        "id": "T7E0IAPSOnVU"
      },
      "source": [
        "Ans 19: Dictionaries in Python were considered unordered because they were not arranged in the order of keys as inserted. Also, dictionaries are based on hash tables, which store keys based on their hash values, not their insertion position. So, you cannot refer to an item using its index. Dictionaries hold key:value pairs and keys are stored wherever their hash value pointed in the internal structure, not in any predictable order.\n",
        "\n",
        "The key based data-retrieval is fast and the time complexity is less O(1) as we retrieve values by key and not by order or index. It makes the data retrieval fast as you can directly retrieve or access values by their names or keys and don't have to remember the index to fetch the elements.\n",
        "\n"
      ]
    },
    {
      "cell_type": "markdown",
      "metadata": {
        "id": "uMdsqATUgwTz"
      },
      "source": [
        "Ans 20: Data retrieval in Dictionaries as compared to Lists\n",
        "\n",
        "1. Data in the form elements can be accessed in Lists using indexes whereas in case of Dictionaries, data is accessed usinng key names.\n",
        "2. In Lists, indexes can be integers whereas keys in Dictionaries can be numbers, strings etc.\n",
        "3. Searching or accessing an element in a List can be slower if you do not know the index as compared to a dictionary if you don't know the key as the Lists go through scanning of each element one by one."
      ]
    },
    {
      "cell_type": "markdown",
      "metadata": {
        "id": "vcwx8t_0ko_K"
      },
      "source": [
        "# Practical Questions:-"
      ]
    },
    {
      "cell_type": "markdown",
      "metadata": {
        "id": "97cLjgObkzmn"
      },
      "source": [
        "Ans 1:"
      ]
    },
    {
      "cell_type": "code",
      "execution_count": null,
      "metadata": {
        "colab": {
          "base_uri": "https://localhost:8080/"
        },
        "id": "bHzCV93Hk4QO",
        "outputId": "6c14f7e6-1939-43df-9ca8-9ea65a41920e"
      },
      "outputs": [
        {
          "name": "stdout",
          "output_type": "stream",
          "text": [
            "My name is: Shreya\n"
          ]
        }
      ],
      "source": [
        "# code to create a string with your name and print it\n",
        "name=\"Shreya\"\n",
        "print(\"My name is:\", name)"
      ]
    },
    {
      "cell_type": "markdown",
      "metadata": {
        "id": "yvA11ZDtl9a6"
      },
      "source": [
        "Ans 2:"
      ]
    },
    {
      "cell_type": "code",
      "execution_count": null,
      "metadata": {
        "colab": {
          "base_uri": "https://localhost:8080/"
        },
        "id": "O1TxroOwxggv",
        "outputId": "8ff10d5e-86af-4bdc-ffa2-da3915193194"
      },
      "outputs": [
        {
          "name": "stdout",
          "output_type": "stream",
          "text": [
            "11\n"
          ]
        }
      ],
      "source": [
        "#To find out the length of the string\n",
        "string=\"Hello World\"\n",
        "print(len(string))"
      ]
    },
    {
      "cell_type": "markdown",
      "metadata": {
        "id": "Lj-uAE22yGZq"
      },
      "source": [
        "Ans 3:"
      ]
    },
    {
      "cell_type": "code",
      "execution_count": null,
      "metadata": {
        "colab": {
          "base_uri": "https://localhost:8080/"
        },
        "id": "Uo3IcnpmyI9A",
        "outputId": "10408238-56ab-4363-f3c0-f5f8bf91bddb"
      },
      "outputs": [
        {
          "output_type": "stream",
          "name": "stdout",
          "text": [
            "Pyt\n"
          ]
        }
      ],
      "source": [
        "#Code to slice the first three characters from the string \"Python Programming\"\n",
        "a=\"Python Programming\"\n",
        "print(a[0:3])"
      ]
    },
    {
      "cell_type": "markdown",
      "metadata": {
        "id": "qnapyUeiO1eT"
      },
      "source": [
        "Ans 4:"
      ]
    },
    {
      "cell_type": "code",
      "execution_count": null,
      "metadata": {
        "colab": {
          "base_uri": "https://localhost:8080/"
        },
        "id": "IBJFE_rMPAX5",
        "outputId": "f677b6b8-2c6d-489e-997f-002a1d499639"
      },
      "outputs": [
        {
          "name": "stdout",
          "output_type": "stream",
          "text": [
            "The string in upeer case is: HELLO\n"
          ]
        }
      ],
      "source": [
        "#code to convert the string \"hello\" to uppercase\n",
        "a=\"hello\"\n",
        "print(\"The string in upeer case is:\", a.upper())"
      ]
    },
    {
      "cell_type": "markdown",
      "source": [
        "Ans 5:"
      ],
      "metadata": {
        "id": "cRAmlOKNS721"
      }
    },
    {
      "cell_type": "code",
      "source": [
        "#Code to replace the word in the string\n",
        "sen=\"I like apple\"\n",
        "new=sen.replace(\"apple\",\"orange\")\n",
        "print(sen)\n",
        "print(\"\\nThe string after replacing the word is:\\n \",new)"
      ],
      "metadata": {
        "colab": {
          "base_uri": "https://localhost:8080/"
        },
        "id": "IwRIDSf5TLgE",
        "outputId": "2143615d-9881-42af-ba30-d2341b02e9ca"
      },
      "execution_count": null,
      "outputs": [
        {
          "output_type": "stream",
          "name": "stdout",
          "text": [
            "I like apple\n",
            "\n",
            "The string after replacing the word is:\n",
            "  I like orange\n"
          ]
        }
      ]
    },
    {
      "cell_type": "markdown",
      "source": [
        "Ans 6:"
      ],
      "metadata": {
        "id": "lft2fLQHcTwo"
      }
    },
    {
      "cell_type": "code",
      "source": [
        "#Code to create a List with numbers 1-5 and print it\n",
        "List={1,2,3,4,5}\n",
        "print(List)"
      ],
      "metadata": {
        "colab": {
          "base_uri": "https://localhost:8080/"
        },
        "id": "Od5pUIOUcYJo",
        "outputId": "564723df-732b-422a-d73a-18af890fea52"
      },
      "execution_count": null,
      "outputs": [
        {
          "output_type": "stream",
          "name": "stdout",
          "text": [
            "{1, 2, 3, 4, 5}\n"
          ]
        }
      ]
    },
    {
      "cell_type": "markdown",
      "source": [
        "Ans 7:"
      ],
      "metadata": {
        "id": "RSngiHD9c3FV"
      }
    },
    {
      "cell_type": "code",
      "source": [
        "#Code to append the number 10 to the list\n",
        "# Define the list\n",
        "a = [1,2,3,4]\n",
        "a.append(10)\n",
        "print(a)"
      ],
      "metadata": {
        "colab": {
          "base_uri": "https://localhost:8080/"
        },
        "id": "1RUh3_0mc6-o",
        "outputId": "71aa4d4c-fadb-4f78-9153-67246f980cac"
      },
      "execution_count": null,
      "outputs": [
        {
          "output_type": "stream",
          "name": "stdout",
          "text": [
            "[1, 2, 3, 4, 10]\n"
          ]
        }
      ]
    },
    {
      "cell_type": "markdown",
      "source": [
        "Ans 8:"
      ],
      "metadata": {
        "id": "AOIURxzleqsc"
      }
    },
    {
      "cell_type": "code",
      "source": [
        "#Code to remove 3 from the List\n",
        "list1={1,2,3,4,5}\n",
        "n=list1.remove(3)\n",
        "print(\"Edited List: \",list1)"
      ],
      "metadata": {
        "id": "xxcRRS0xetmK",
        "colab": {
          "base_uri": "https://localhost:8080/"
        },
        "outputId": "bff42910-d4bd-4466-edae-bc85f42fc385"
      },
      "execution_count": 3,
      "outputs": [
        {
          "output_type": "stream",
          "name": "stdout",
          "text": [
            "Edited List:  {1, 2, 4, 5}\n"
          ]
        }
      ]
    },
    {
      "cell_type": "markdown",
      "source": [
        "Ans 9:"
      ],
      "metadata": {
        "id": "XuwAwiTRIi9W"
      }
    },
    {
      "cell_type": "code",
      "source": [
        "#To access the second element in the List\n",
        "a=['a','b','c','d']\n",
        "print(\"The second element in the List is:\",a[1])"
      ],
      "metadata": {
        "colab": {
          "base_uri": "https://localhost:8080/"
        },
        "id": "sS4jMbbTJX51",
        "outputId": "5c0b450c-0a32-48ba-b26d-54cafc14b02b"
      },
      "execution_count": 2,
      "outputs": [
        {
          "output_type": "stream",
          "name": "stdout",
          "text": [
            "The second element in the List is: b\n"
          ]
        }
      ]
    },
    {
      "cell_type": "markdown",
      "source": [
        "Ans 10:"
      ],
      "metadata": {
        "id": "iW5ujKV5KhVd"
      }
    },
    {
      "cell_type": "code",
      "source": [
        "#Code to reverse the list [10, 20, 30, 40, 50].\n",
        "List= [10, 20, 30, 40, 50]\n",
        "L1= List[::-1]\n",
        "print(\"The reversed List is:\\n\",L1)"
      ],
      "metadata": {
        "colab": {
          "base_uri": "https://localhost:8080/"
        },
        "id": "ggLryKMJKjeF",
        "outputId": "7efb46d8-cd7d-44c2-f307-6035b9572b44"
      },
      "execution_count": 3,
      "outputs": [
        {
          "output_type": "stream",
          "name": "stdout",
          "text": [
            "The reversed List is:\n",
            " [50, 40, 30, 20, 10]\n"
          ]
        }
      ]
    },
    {
      "cell_type": "markdown",
      "source": [
        "Ans 11:"
      ],
      "metadata": {
        "id": "GfmP_QD4MI0v"
      }
    },
    {
      "cell_type": "code",
      "source": [
        "#Code to create a tuple with the elements 100, 200, 300 and print it\n",
        "Tup= (100,200,300)\n",
        "print(\"The tuple created is:\\n\",Tup)"
      ],
      "metadata": {
        "colab": {
          "base_uri": "https://localhost:8080/"
        },
        "id": "OeaUiNcJMLAZ",
        "outputId": "a0b0b435-b8af-4158-c7a7-7999a7f6c1f4"
      },
      "execution_count": 4,
      "outputs": [
        {
          "output_type": "stream",
          "name": "stdout",
          "text": [
            "The tuple created is:\n",
            " (100, 200, 300)\n"
          ]
        }
      ]
    },
    {
      "cell_type": "markdown",
      "source": [
        "Ans 12:"
      ],
      "metadata": {
        "id": "sVzaKcxGN4Tj"
      }
    },
    {
      "cell_type": "code",
      "source": [
        "#Code to access Second Last element in the Tuple\n",
        "tuple= (10, 20, 5, 15)\n",
        "print(tuple)\n",
        "print(\"\\nThe second to last element in the Tuple is:\",tuple[2])"
      ],
      "metadata": {
        "colab": {
          "base_uri": "https://localhost:8080/"
        },
        "id": "xFkG0N-5N6H9",
        "outputId": "b40fd939-1649-4218-950b-1a39ad2e9f34"
      },
      "execution_count": 9,
      "outputs": [
        {
          "output_type": "stream",
          "name": "stdout",
          "text": [
            "(10, 20, 5, 15)\n",
            "\n",
            "The second to last element in the Tuple is: 5\n"
          ]
        }
      ]
    },
    {
      "cell_type": "markdown",
      "source": [
        "Ans 13:"
      ],
      "metadata": {
        "id": "rtZ3jWudPiF-"
      }
    },
    {
      "cell_type": "code",
      "source": [
        "a=(10, 20, 5, 15)\n",
        "x= min(a)\n",
        "print(\"The minimum element in the tuple is:\",x)"
      ],
      "metadata": {
        "colab": {
          "base_uri": "https://localhost:8080/"
        },
        "id": "MYj4jLRZPj_U",
        "outputId": "3a996412-cb3c-4dae-d5c9-826f4c220ab6"
      },
      "execution_count": 10,
      "outputs": [
        {
          "output_type": "stream",
          "name": "stdout",
          "text": [
            "The minimum element in the tuple is: 5\n"
          ]
        }
      ]
    },
    {
      "cell_type": "markdown",
      "source": [
        "Ans 14:"
      ],
      "metadata": {
        "id": "vJnobp4KQaCu"
      }
    },
    {
      "cell_type": "code",
      "source": [
        "#Finding index of 'cat' from a tuple\n",
        "anm=('dog','cat','rabbit')\n",
        "y= anm.index('cat')\n",
        "print(\"The index of 'cat' in the tuple is:\",y)\n"
      ],
      "metadata": {
        "colab": {
          "base_uri": "https://localhost:8080/"
        },
        "id": "eTCKi0kYQbtS",
        "outputId": "a9f885d1-465c-4289-fc50-182df2c175ff"
      },
      "execution_count": 13,
      "outputs": [
        {
          "output_type": "stream",
          "name": "stdout",
          "text": [
            "The index of 'cat' in the tuple is: 1\n"
          ]
        }
      ]
    },
    {
      "cell_type": "markdown",
      "source": [
        "Ans 15:"
      ],
      "metadata": {
        "id": "nHsS6lCBRXzx"
      }
    },
    {
      "cell_type": "code",
      "source": [
        "#Code to create a Fruit tuple and check if 'Kiwi' is present in it or not\n",
        "fruits= ('apple','orange','kiwi','banana')\n",
        "for i in fruits:\n",
        "  if i=='kiwi':\n",
        "    print(\"Yes, 'Kiwi' is present in the tuple.\")\n",
        "    break\n",
        "else:\n",
        "  print(\"No, 'Kiwi' is not present in the tuple.\")"
      ],
      "metadata": {
        "colab": {
          "base_uri": "https://localhost:8080/"
        },
        "id": "UJJj4KAgRaik",
        "outputId": "ee40a3ae-098e-46e8-da41-fd293c8feba4"
      },
      "execution_count": 25,
      "outputs": [
        {
          "output_type": "stream",
          "name": "stdout",
          "text": [
            "Yes, 'Kiwi' is present in the tuple.\n"
          ]
        }
      ]
    },
    {
      "cell_type": "markdown",
      "source": [
        "Ans 16:"
      ],
      "metadata": {
        "id": "x_odWgzBTn6G"
      }
    },
    {
      "cell_type": "code",
      "source": [
        "#Code to create a set with ('a','b','c' )\n",
        "set={'a','b','c'}\n",
        "print(\"Set is:\",set)"
      ],
      "metadata": {
        "colab": {
          "base_uri": "https://localhost:8080/"
        },
        "id": "b1gmk_HJZJyK",
        "outputId": "57e17d11-ca57-4c13-8b88-9fb272aea0f6"
      },
      "execution_count": 26,
      "outputs": [
        {
          "output_type": "stream",
          "name": "stdout",
          "text": [
            "Set is: {'b', 'c', 'a'}\n"
          ]
        }
      ]
    },
    {
      "cell_type": "markdown",
      "source": [
        "Ans 17:"
      ],
      "metadata": {
        "id": "8OIbkzcHZ9VP"
      }
    },
    {
      "cell_type": "code",
      "source": [
        "#Code to clear all the elements from the List\n",
        "#List -> [], Tuple -> (), Set -> {}\n",
        "list1=[1,2,3,4,5]\n",
        "list1.clear()\n",
        "print(\"The List after clearing all the elements:\",list1)"
      ],
      "metadata": {
        "colab": {
          "base_uri": "https://localhost:8080/"
        },
        "id": "HljSMl_vZ_X3",
        "outputId": "75e39313-0323-4193-be95-ca463a070d35"
      },
      "execution_count": 27,
      "outputs": [
        {
          "output_type": "stream",
          "name": "stdout",
          "text": [
            "The List after clearing all the elements: []\n"
          ]
        }
      ]
    },
    {
      "cell_type": "markdown",
      "source": [
        "Ans 18:"
      ],
      "metadata": {
        "id": "nu-JbJ5Yamdj"
      }
    },
    {
      "cell_type": "code",
      "source": [
        "#Code to remove the element 4 from the set {1, 2, 3, 4}\n",
        "set={1,2,3,4}\n",
        "set.remove(4)\n",
        "print(\"The set after removal of 4:\",set)\n"
      ],
      "metadata": {
        "colab": {
          "base_uri": "https://localhost:8080/"
        },
        "id": "ZGJQfQbPapSX",
        "outputId": "5a2fbb30-6f5b-4022-975e-80df84c08ca3"
      },
      "execution_count": 28,
      "outputs": [
        {
          "output_type": "stream",
          "name": "stdout",
          "text": [
            "The set after removal of 4: {1, 2, 3}\n"
          ]
        }
      ]
    },
    {
      "cell_type": "markdown",
      "source": [
        "Ans 19:"
      ],
      "metadata": {
        "id": "6TtadNxbgWJc"
      }
    },
    {
      "cell_type": "code",
      "source": [
        "#Union of 2 sets\n",
        "s1= {1,2,3}\n",
        "s2= {3,4,5}\n",
        "print(\"Union of sets s1 and s2:\",s1|s2)"
      ],
      "metadata": {
        "colab": {
          "base_uri": "https://localhost:8080/"
        },
        "id": "yYg687uygm3L",
        "outputId": "e6d35e73-b50b-4581-be51-6e6368fff8b9"
      },
      "execution_count": 29,
      "outputs": [
        {
          "output_type": "stream",
          "name": "stdout",
          "text": [
            "Union of sets s1 and s2: {1, 2, 3, 4, 5}\n"
          ]
        }
      ]
    },
    {
      "cell_type": "markdown",
      "source": [
        "Ans 20:"
      ],
      "metadata": {
        "id": "Tk1Z9SwDiwWk"
      }
    },
    {
      "cell_type": "code",
      "source": [
        "#Write a code to find intersection of two sets\n",
        "s1={1,2,3}\n",
        "s2={2,3,4}\n",
        "print(\"Intersection of 2 sets:\", s1&s2)"
      ],
      "metadata": {
        "colab": {
          "base_uri": "https://localhost:8080/"
        },
        "id": "fOuI6KfJi0lo",
        "outputId": "f7f2c539-75cb-4539-e1b4-7b019ecdd0bc"
      },
      "execution_count": 30,
      "outputs": [
        {
          "output_type": "stream",
          "name": "stdout",
          "text": [
            "Intersection of 2 sets: {2, 3}\n"
          ]
        }
      ]
    },
    {
      "cell_type": "markdown",
      "source": [
        "Ans 21:"
      ],
      "metadata": {
        "id": "NNELBUPpj0_6"
      }
    },
    {
      "cell_type": "code",
      "source": [
        "# Code to create a dictionary with the keys \"name\", \"age\", and \"city\", and print it\n",
        "Person = {\n",
        "    \"Person1\": {\n",
        "        \"Name\": \"Mayank\",\n",
        "        \"Age\": 20,\n",
        "        \"City\": \"Kolkata\"\n",
        "    },\n",
        "    \"Person2\": {\n",
        "        \"Name\": \"Francis\",\n",
        "        \"Age\": 50,\n",
        "        \"City\": \"Jaipur\"\n",
        "    },\n",
        "    \"Person3\": {\n",
        "        \"Name\": \"Jaya\",\n",
        "        \"Age\": 33,\n",
        "        \"City\": \"Pune\"\n",
        "    },\n",
        "\n",
        "    }\n",
        "print(\"The Dictionary is:\\n\",Person)\n"
      ],
      "metadata": {
        "colab": {
          "base_uri": "https://localhost:8080/"
        },
        "id": "3ZAs1ucRj3II",
        "outputId": "5a775128-75ef-466a-dd65-ff564422ec53"
      },
      "execution_count": 1,
      "outputs": [
        {
          "output_type": "stream",
          "name": "stdout",
          "text": [
            "The Dictionary is:\n",
            " {'Person1': {'Name': 'Mayank', 'Age': 20, 'City': 'Kolkata'}, 'Person2': {'Name': 'Francis', 'Age': 50, 'City': 'Jaipur'}, 'Person3': {'Name': 'Jaya', 'Age': 33, 'City': 'Pune'}}\n"
          ]
        }
      ]
    },
    {
      "cell_type": "markdown",
      "source": [
        "Ans 22:"
      ],
      "metadata": {
        "id": "iRfO87oApYYj"
      }
    },
    {
      "cell_type": "code",
      "source": [
        "#Code to add a new key-value pair \"country\": \"USA\" to the dictionary {'name': 'John', 'age': 25}\n",
        "Dict = {\n",
        "    \"Person1\": {\n",
        "        \"Name\": \"John\",\n",
        "        \"Age\": 25,\n",
        "        }\n",
        "    }\n",
        "#Inserting new key-value pair\n",
        "\n",
        "Dict[\"Person1\"][\"Country\"]= \"USA\"\n",
        "\n",
        "print(\"The Dictionary is:\\n\",Dict)\n"
      ],
      "metadata": {
        "colab": {
          "base_uri": "https://localhost:8080/"
        },
        "id": "wriJZ143piaW",
        "outputId": "e5f65341-0426-4503-a9bd-0e898e9b5a66"
      },
      "execution_count": 8,
      "outputs": [
        {
          "output_type": "stream",
          "name": "stdout",
          "text": [
            "The Dictionary is:\n",
            " {'Person1': {'Name': 'John', 'Age': 25, 'Country': 'USA'}}\n"
          ]
        }
      ]
    },
    {
      "cell_type": "markdown",
      "source": [
        "Ans 23:"
      ],
      "metadata": {
        "id": "N7CP9BxoszrR"
      }
    },
    {
      "cell_type": "code",
      "source": [
        "#Code to access the value associated with key name\n",
        "S = {\"Name\": \"Alice\", \"Age\": 30}\n",
        "name_value= S[\"Name\"]\n",
        "print(\"Value associated with the key 'Name': \",name_value)\n",
        ""
      ],
      "metadata": {
        "colab": {
          "base_uri": "https://localhost:8080/"
        },
        "id": "-usyJ4Lns4E4",
        "outputId": "715011d9-92d3-4f0f-a447-5f44d6d3a2e6"
      },
      "execution_count": 9,
      "outputs": [
        {
          "output_type": "stream",
          "name": "stdout",
          "text": [
            "Value associated with the key 'Name':  Alice\n"
          ]
        }
      ]
    },
    {
      "cell_type": "markdown",
      "source": [
        "Ans 24:"
      ],
      "metadata": {
        "id": "wt5KIeahvoZ4"
      }
    },
    {
      "cell_type": "code",
      "source": [
        "#Code to remove the key \"age\" from the dictionary\n",
        "#Define the Dictionary\n",
        "Person = {\n",
        "    \"Person1\": {\n",
        "          \"Name\": \"Bob\",\n",
        "          \"Age\": 22,\n",
        "          \"City\": \"New York\",\n",
        "    }\n",
        "}\n",
        "Person[\"Person1\"].pop(\"Age\")\n",
        "print(\"The dictionary will be:\",Person)"
      ],
      "metadata": {
        "colab": {
          "base_uri": "https://localhost:8080/"
        },
        "id": "xC9mNNOBvpuv",
        "outputId": "e6c6bf9d-3704-43de-a814-741e5c20fd49"
      },
      "execution_count": 7,
      "outputs": [
        {
          "output_type": "stream",
          "name": "stdout",
          "text": [
            "The dictionary will be: {'Person1': {'Name': 'Bob', 'City': 'New York'}}\n"
          ]
        }
      ]
    },
    {
      "cell_type": "markdown",
      "source": [
        "Ans 25:"
      ],
      "metadata": {
        "id": "l1Q4PdtFUekJ"
      }
    },
    {
      "cell_type": "code",
      "source": [
        "#Code to check if the key 'City' exists in the dictionary\n",
        "Person = {\"Name\": \"Alice\", \"City\": \"Paris\"}\n",
        "if \"City\" in Person:\n",
        "  print(\"Yes 'City' is present in the Dictionary.\")\n",
        "else:\n",
        "  print(\"No 'City' is not present in the dictionary.\")"
      ],
      "metadata": {
        "colab": {
          "base_uri": "https://localhost:8080/"
        },
        "id": "tstL22dVUh_k",
        "outputId": "da18e6d1-f068-4486-a58e-8a8fbcab5c24"
      },
      "execution_count": 10,
      "outputs": [
        {
          "output_type": "stream",
          "name": "stdout",
          "text": [
            "No 'City' is not present in the dictionary.\n"
          ]
        }
      ]
    },
    {
      "cell_type": "markdown",
      "source": [
        "Ans 26:"
      ],
      "metadata": {
        "id": "05fYa6MTWGD_"
      }
    },
    {
      "cell_type": "code",
      "source": [
        "#Code to create a list, a tuple, and a dictionary, and print them all\n",
        "List= [1, 2.2, 3, 4+5j, \"Rohit\"]\n",
        "Tuple= (\"True\", 9, 7.655, (5,6), 2+9j)\n",
        "Dic= {\n",
        "    \"Person1\": {\n",
        "      \"Name\": \"Salma\",\n",
        "      \"Age\": 42,\n",
        "      \"Country\": \"Pakistan\"\n",
        "       },\n",
        "    \"Person2\": {\n",
        "        \"Name\": \"Raha\",\n",
        "        \"Age\": 2,\n",
        "        \"Country\": \"Indonesia\"\n",
        "        }\n",
        "    }\n",
        "print(\"The List here is:\",List)\n",
        "print(\"The Tuple here is:\",Tuple)\n",
        "print(\"The Dictionary here is:\",Dic)"
      ],
      "metadata": {
        "colab": {
          "base_uri": "https://localhost:8080/"
        },
        "id": "C5zOBcVRWLSG",
        "outputId": "a0a44a0b-4305-4e8e-dceb-5f5f6d9a4808"
      },
      "execution_count": 13,
      "outputs": [
        {
          "output_type": "stream",
          "name": "stdout",
          "text": [
            "The List here is: [1, 2.2, 3, (4+5j), 'Rohit']\n",
            "The Tuple here is: ('True', 9, 7.655, (5, 6), (2+9j))\n",
            "The Dictionary here is: {'Person1': {'Name': 'Salma', 'Age': 42, 'Country': 'Pakistan'}, 'Person2': {'Name': 'Raha', 'Age': 2, 'Country': 'Indonesia'}}\n"
          ]
        }
      ]
    },
    {
      "cell_type": "markdown",
      "source": [
        "Ans 27:"
      ],
      "metadata": {
        "id": "RWO2uAuaYmfR"
      }
    },
    {
      "cell_type": "code",
      "source": [
        "#Code to create a list of 5 random numbers between 1 and 100, sort it in ascending order, and print the Result\n",
        "List = [83, 55, 27, 42, 95]\n",
        "n= len(List)\n",
        "for i in range (0,n):\n",
        "  for j in range (0,n-i-1):\n",
        "    if List[j]>List[j+1]:\n",
        "      List[j], List[j+1] = List[j+1], List[j]\n",
        "print(\"The List in Ascending order is:\",List)\n",
        "\n",
        "\n"
      ],
      "metadata": {
        "colab": {
          "base_uri": "https://localhost:8080/"
        },
        "id": "XlBH-q2PYtbs",
        "outputId": "0d94f74e-acab-4386-f143-bf276914dcdb"
      },
      "execution_count": 19,
      "outputs": [
        {
          "output_type": "stream",
          "name": "stdout",
          "text": [
            "The List in Ascending order is: [27, 42, 55, 83, 95]\n"
          ]
        }
      ]
    },
    {
      "cell_type": "markdown",
      "source": [
        "Ans 28:"
      ],
      "metadata": {
        "id": "rQogCpjKcg2o"
      }
    },
    {
      "cell_type": "code",
      "source": [
        "#Code to create a list with strings and print the element at the third index.\n",
        "List= [\"Good\", \"Bad\", \"More\", \"Less\", \"win\"]\n",
        "a= List[2]\n",
        "print(\"The element at the third index is:\",a)"
      ],
      "metadata": {
        "colab": {
          "base_uri": "https://localhost:8080/"
        },
        "id": "b9FjbGwhcin5",
        "outputId": "7b021b7e-4d8f-4a63-f2f9-2af9728a2918"
      },
      "execution_count": 20,
      "outputs": [
        {
          "output_type": "stream",
          "name": "stdout",
          "text": [
            "The element at the third index is: More\n"
          ]
        }
      ]
    },
    {
      "cell_type": "markdown",
      "source": [
        "Ans 29:"
      ],
      "metadata": {
        "id": "HQenGbBgdKjd"
      }
    },
    {
      "cell_type": "code",
      "source": [
        "#Code to combine two dictionaries into one and print the result\n",
        "Dict1= {\n",
        "    \"Jaipur\":{\n",
        "        \"State\": \"Rajasthan\",\n",
        "        \"Pin Code\": 234561,\n",
        "        \"Roads\": \"Good\"\n",
        "    },\n",
        "    \"Gangapur\":{\n",
        "        \"State\": \"Rajasthan\",\n",
        "        \"Pin Code\": 321009,\n",
        "        \"Roads\": \"Bad\"\n",
        "    }\n",
        "}\n",
        "\n",
        "Dict2={\n",
        "    \"Dog\": {\n",
        "        \"Name\": \"Bruno\",\n",
        "        \"Age\": 3,\n",
        "        \"Color\": \"Light Brown\"\n",
        "    },\n",
        "    \"Cat\": {\n",
        "        \"Name\": \"Kitty\",\n",
        "        \"Age\": 5,\n",
        "        \"Color\": \"Black & White\",\n",
        "    }\n",
        "}\n",
        "\n",
        "Dict1.update(Dict2)\n",
        "print(\"The combined Dictionary is:\", Dict1)"
      ],
      "metadata": {
        "colab": {
          "base_uri": "https://localhost:8080/"
        },
        "id": "lcunmwvmdMzc",
        "outputId": "faddf3b4-b2bc-4d39-e167-25f1f8907bb2"
      },
      "execution_count": 22,
      "outputs": [
        {
          "output_type": "stream",
          "name": "stdout",
          "text": [
            "The combined Dictionary is: {'Jaipur': {'State': 'Rajasthan', 'Pin Code': 234561, 'Roads': 'Good'}, 'Gangapur': {'State': 'Rajasthan', 'Pin Code': 321009, 'Roads': 'Bad'}, 'Dog': {'Name': 'Bruno', 'Age': 3, 'Color': 'Light Brown'}, 'Cat': {'Name': 'Kitty', 'Age': 5, 'Color': 'Black & White'}}\n"
          ]
        }
      ]
    },
    {
      "cell_type": "markdown",
      "source": [
        "Ans 30:"
      ],
      "metadata": {
        "id": "GBji50UCjopt"
      }
    },
    {
      "cell_type": "code",
      "source": [
        "#Code to convert a List of Strings into Set\n",
        "Str_List=[\"Major\", \"Minor\", \"Shoulder\", \"Mayor\"]\n",
        "print(Str_List)\n",
        "Str_Set= set(Str_List)\n",
        "print(\"The Set converted from List is:\", Str_Set)"
      ],
      "metadata": {
        "colab": {
          "base_uri": "https://localhost:8080/"
        },
        "id": "CdHTH28njvlA",
        "outputId": "c5dc05aa-6a74-4c35-d71b-7d1326d12299"
      },
      "execution_count": 24,
      "outputs": [
        {
          "output_type": "stream",
          "name": "stdout",
          "text": [
            "['Major', 'Minor', 'Shoulder', 'Mayor']\n",
            "The Set converted from List is: {'Major', 'Mayor', 'Minor', 'Shoulder'}\n"
          ]
        }
      ]
    }
  ],
  "metadata": {
    "colab": {
      "provenance": []
    },
    "kernelspec": {
      "display_name": "Python 3",
      "name": "python3"
    },
    "language_info": {
      "name": "python"
    }
  },
  "nbformat": 4,
  "nbformat_minor": 0
}